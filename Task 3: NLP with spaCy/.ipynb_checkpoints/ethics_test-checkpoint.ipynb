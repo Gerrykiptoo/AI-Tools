{
 "cells": [
  {
   "cell_type": "code",
   "execution_count": null,
   "id": "1c5cad09",
   "metadata": {
    "vscode": {
     "languageId": "plaintext"
    }
   },
   "outputs": [],
   "source": [
    "import spacy\n",
    "from spacy import displacy\n",
    "from spacytextblob.spacytextblob import SpacyTextBlob\n",
    "\n",
    "# Load spaCy model\n",
    "nlp = spacy.load(\"en_core_web_sm\")\n",
    "nlp.add_pipe('spacytextblob')  # Add sentiment analysis\n",
    "\n",
    "# Process a sample review\n",
    "sample_review = df.iloc[0][\"Text\"]\n",
    "doc = nlp(sample_review)\n",
    "\n",
    "# 1. Named Entity Recognition (NER)\n",
    "print(\"--- Named Entities (Products/Brands) ---\")\n",
    "for ent in doc.ents:\n",
    "    if ent.label_ in [\"ORG\", \"PRODUCT\"]:  # Focus on brands/products\n",
    "        print(f\"{ent.text} ({ent.label_})\")\n",
    "\n",
    "# 2. Sentiment Analysis\n",
    "print(\"\\n--- Sentiment Analysis ---\")\n",
    "print(f\"Review Text: {sample_review}\")\n",
    "print(f\"Polarity: {doc._.polarity:.2f} (-1 to +1)\")\n",
    "print(f\"Sentiment: {'Positive' if doc._.polarity > 0 else 'Negative'}\")\n",
    "\n",
    "# 3. Visualize NER\n",
    "displacy.render(doc, style=\"ent\", jupyter=True)"
   ]
  }
 ],
 "metadata": {
  "language_info": {
   "name": "python"
  }
 },
 "nbformat": 4,
 "nbformat_minor": 5
}
