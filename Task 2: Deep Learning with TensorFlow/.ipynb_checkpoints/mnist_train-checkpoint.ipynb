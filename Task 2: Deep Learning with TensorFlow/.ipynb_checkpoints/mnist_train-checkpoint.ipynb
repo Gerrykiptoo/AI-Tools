{
 "cells": [
  {
   "cell_type": "code",
   "execution_count": null,
   "id": "06a54482",
   "metadata": {
    "vscode": {
     "languageId": "plaintext"
    }
   },
   "outputs": [],
   "source": [
    "from tensorflow.keras.datasets import mnist\n",
    "\n",
    "(train_images, train_labels), (test_images, test_labels) = mnist.load_data()"
   ]
  }
 ],
 "metadata": {
  "language_info": {
   "name": "python"
  }
 },
 "nbformat": 4,
 "nbformat_minor": 5
}
